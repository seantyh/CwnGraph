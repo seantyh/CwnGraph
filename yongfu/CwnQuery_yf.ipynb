{
 "cells": [
  {
   "cell_type": "markdown",
   "metadata": {},
   "source": [
    "# Cwn Graph Query"
   ]
  },
  {
   "cell_type": "code",
   "execution_count": 2,
   "metadata": {},
   "outputs": [],
   "source": [
    "%load_ext autoreload\n",
    "%autoreload 2"
   ]
  },
  {
   "cell_type": "code",
   "execution_count": 5,
   "metadata": {},
   "outputs": [],
   "source": [
    "import pickle\n",
    "from CwnGraph import CwnBase, CwnAnnotator, CwnSense\n",
    "from CwnGraph import CwnRelationType"
   ]
  },
  {
   "cell_type": "markdown",
   "metadata": {},
   "source": [
    "CwnGraph can be installed as a package.\n",
    "When run first time, prepare cwn_graph.pyobj and install with install_cwn().\n",
    "After installation, CwnGraph use CWN data in its own home directory, regardless of working directory."
   ]
  },
  {
   "cell_type": "code",
   "execution_count": 6,
   "metadata": {},
   "outputs": [
    {
     "name": "stdout",
     "output_type": "stream",
     "text": [
      "CWN data installed\n"
     ]
    }
   ],
   "source": [
    "CwnBase.install_cwn(\"data/cwn_graph.pyobj\")"
   ]
  },
  {
   "cell_type": "code",
   "execution_count": 7,
   "metadata": {},
   "outputs": [],
   "source": [
    "cwn = CwnBase()"
   ]
  },
  {
   "cell_type": "code",
   "execution_count": 8,
   "metadata": {},
   "outputs": [
    {
     "data": {
      "text/plain": [
       "'6ebdc3'"
      ]
     },
     "execution_count": 8,
     "metadata": {},
     "output_type": "execute_result"
    }
   ],
   "source": [
    "# this line may take a few seconds\n",
    "cwn.get_hash()"
   ]
  },
  {
   "cell_type": "code",
   "execution_count": 6,
   "metadata": {},
   "outputs": [
    {
     "name": "stdout",
     "output_type": "stream",
     "text": [
      "\n"
     ]
    }
   ],
   "source": [
    "#cwn.E[('G11201', '080601')]\n",
    "#for d in cwn.V:\n",
    "#    print(d, cwn.V[d])\n",
    "print()"
   ]
  },
  {
   "cell_type": "code",
   "execution_count": 11,
   "metadata": {},
   "outputs": [
    {
     "data": {
      "text/plain": [
       "[('synonym', <CwnSense[09146302](槌): 以棒狀物或拳頭敲擊特定物體。>),\n",
       " ('synonym', <CwnFacet[0913630101](搥): 以棒狀物或拳頭敲擊特定物體。>),\n",
       " ('synonym', <CwnFacet[0921740201](鎚): 以棒狀物或拳頭敲擊特定物體。>),\n",
       " ('is_synset', <CwnSense[syn_000168](----): >),\n",
       " ('varword', <CwnSense[09206304](錘): 以棒狀物或拳頭敲擊特定物體。>),\n",
       " ('synonym', <CwnSense[09136301](搥): 以棒狀物或拳頭敲擊特定物體。>),\n",
       " ('synonym', <CwnSense[09217402](鎚): 以棒狀物或拳頭敲擊特定物體。>),\n",
       " ('synonym(rev)', <CwnSense[09146302](槌): 以棒狀物或拳頭敲擊特定物體。>),\n",
       " ('synonym(rev)', <CwnFacet[0913630101](搥): 以棒狀物或拳頭敲擊特定物體。>),\n",
       " ('synonym(rev)', <CwnFacet[0921740201](鎚): 以棒狀物或拳頭敲擊特定物體。>),\n",
       " ('varword(rev)', <CwnSense[09206304](錘): 以棒狀物或拳頭敲擊特定物體。>)]"
      ]
     },
     "execution_count": 11,
     "metadata": {},
     "output_type": "execute_result"
    }
   ],
   "source": [
    "CwnSense(\"09103201\", cwn).relations"
   ]
  },
  {
   "cell_type": "markdown",
   "metadata": {},
   "source": [
    "## Basic Query"
   ]
  },
  {
   "cell_type": "code",
   "execution_count": 6,
   "metadata": {},
   "outputs": [
    {
     "name": "stdout",
     "output_type": "stream",
     "text": [
      "[<CwnLemma: 電腦_1>, <CwnLemma: 電腦化_1>, <CwnLemma: 微電腦_1>]\n"
     ]
    }
   ],
   "source": [
    "lemmas = cwn.find_lemma(\"電腦\")\n",
    "print(lemmas)"
   ]
  },
  {
   "cell_type": "code",
   "execution_count": 7,
   "metadata": {},
   "outputs": [
    {
     "name": "stdout",
     "output_type": "stream",
     "text": [
      "[<CwnSense[06613601](電腦): 一種資料處理裝置，能自動接受並儲存、處理輸入的資料，然後經由一組預先存放在機器內的指令逐步引導下產生輸出結果。>, <CwnSense[06613602](電腦): 研究或操作電腦的知識。>, <CwnSense[06613603](電腦): 比喻計算或記憶能力很強的人。>]\n"
     ]
    }
   ],
   "source": [
    "lemma0 = lemmas[0]\n",
    "senses = lemma0.senses\n",
    "print(senses)"
   ]
  },
  {
   "cell_type": "code",
   "execution_count": null,
   "metadata": {},
   "outputs": [],
   "source": [
    "senses[0]"
   ]
  },
  {
   "cell_type": "code",
   "execution_count": 12,
   "metadata": {},
   "outputs": [
    {
     "name": "stdout",
     "output_type": "stream",
     "text": [
      "<CwnSense[06613601](電腦): 一種資料處理裝置，能自動接受並儲存、處理輸入的資料，然後經由一組預先存放在機器內的指令逐步引導下產生輸出結果。>\n",
      "[('has_facet', <CwnFacet[0661360101](電腦): 普通名詞。電腦的功能，通常包括程式、軟體等。>),\n",
      " ('has_facet', <CwnFacet[0661360102](電腦): 普通名詞。電腦的實體，特別指外表，通常包括螢幕、鍵盤、主機等。>),\n",
      " ('is_synset', <CwnSense[syn_004128](----): >),\n",
      " ('hypernym', <CwnSense[06582901](工具): 工作時必須使用的具有特定功能的器具。>),\n",
      " ('hyponym(rev)', <CwnSense[06582901](工具): 工作時必須使用的具有特定功能的器具。>)]\n",
      "--\n",
      "<CwnSense[06613602](電腦): 研究或操作電腦的知識。>\n",
      "[('is_synset', <CwnSense[syn_016365](----): >)]\n",
      "--\n",
      "<CwnSense[06613603](電腦): 比喻計算或記憶能力很強的人。>\n",
      "[('is_synset', <CwnSense[syn_014518](----): >)]\n",
      "--\n"
     ]
    }
   ],
   "source": [
    "import pprint\n",
    "for sense_x in senses:\n",
    "    print(sense_x)\n",
    "    pprint.pprint(sense_x.relations)\n",
    "    print(\"--\")"
   ]
  },
  {
   "cell_type": "code",
   "execution_count": 15,
   "metadata": {},
   "outputs": [
    {
     "data": {
      "text/plain": [
       "<CwnSense[06613602](電腦): 研究或操作電腦的知識。>"
      ]
     },
     "execution_count": 15,
     "metadata": {},
     "output_type": "execute_result"
    }
   ],
   "source": [
    "senses[1].data()\n",
    "#senses[1].relations"
   ]
  },
  {
   "cell_type": "code",
   "execution_count": 11,
   "metadata": {},
   "outputs": [
    {
     "data": {
      "text/plain": [
       "[<CwnSense[06665201](車): 在陸地上以輪子行駛的運輸工具。>,\n",
       " <CwnSense[06665202](車): 以車子為形象製成的人造物。>,\n",
       " <CwnSense[06665203](車): 開放式用於乘載或放置物品的有輪子的工具。>,\n",
       " <CwnSense[06665204](車): 相互連結用在軌道上行駛的運輸工具中的一節。>,\n",
       " <CwnSense[06665205](車): 計算一車承載物的量的單位。>,\n",
       " <CwnSense[06665206](車): 利用機械切削特定物品。>,\n",
       " <CwnSense[06665207](車): 大型的紡織機械。>,\n",
       " <CwnSense[06665208](車): 利用機器來縫製衣物。>,\n",
       " <CwnSense[07021501](車): 姓。>,\n",
       " <CwnSense[07021601](車): 象棋遊戲中所使用的棋子之一，走直線。>]"
      ]
     },
     "execution_count": 11,
     "metadata": {},
     "output_type": "execute_result"
    }
   ],
   "source": [
    "cwn.find_senses(lemma=\"^車$\")"
   ]
  },
  {
   "cell_type": "code",
   "execution_count": 51,
   "metadata": {},
   "outputs": [
    {
     "data": {
      "text/plain": [
       "[<CwnSense[03027001](輛): 計算有輪子的機械裝置的單位。>,\n",
       " <CwnSense[04082906](台): 計算有輪子的機械裝置的單位。>,\n",
       " <CwnSense[04153906](臺): 計算有輪子的機械裝置的單位。>,\n",
       " <CwnSense[05075709](部): 計算有輪子的機械裝置的單位。>,\n",
       " <CwnSense[05131903](輪): 計算輪子的單位。>,\n",
       " <CwnSense[05131904](輪): 形狀像輪子的物體。>,\n",
       " <CwnSense[06521401](車子): 在陸地上以輪子行駛的運輸工具。>,\n",
       " <CwnSense[06552201](汽車): 在陸地上行駛的有四個以上的輪子的運輸工具。>,\n",
       " <CwnSense[06665201](車): 在陸地上以輪子行駛的運輸工具。>,\n",
       " <CwnSense[06665203](車): 開放式用於乘載或放置物品的有輪子的工具。>,\n",
       " <CwnSense[08008101](胎): 輪子外面包覆的環形橡膠製品。為英語tire的音譯。>,\n",
       " <CwnSense[09004101](汽): 在陸地上行駛的有四個以上的輪子的運輸工具。>]"
      ]
     },
     "execution_count": 51,
     "metadata": {},
     "output_type": "execute_result"
    }
   ],
   "source": [
    "cwn.find_senses(definition=\"輪子\")"
   ]
  },
  {
   "cell_type": "code",
   "execution_count": 40,
   "metadata": {},
   "outputs": [
    {
     "data": {
      "text/plain": [
       "['請父母或保母，不要讓十個月以內的小朋友利用學步<車>或螃蟹<車>學走路。',\n",
       " '日系育嬰商品有特賣會，主要是展示品以及過季商品，其中主打的商品手推<車>以及兒童安全坐椅3.5折起。',\n",
       " '雖然嬰兒剛開始時腿腳部的肌肉尚無力支撐整個身體的重量，但可藉助於學步<車>來支撐部分體重及維持身體平衡，半坐半站的支撐著練習走路步伐。']"
      ]
     },
     "execution_count": 40,
     "metadata": {},
     "output_type": "execute_result"
    }
   ],
   "source": [
    "cwn.find_senses(examples=\"學步車\")[1].examples"
   ]
  },
  {
   "cell_type": "code",
   "execution_count": null,
   "metadata": {},
   "outputs": [],
   "source": [
    "spend_senses = cwn.find_senses(lemma=\"花費\")\n",
    "spend_senses[0].facets"
   ]
  },
  {
   "cell_type": "code",
   "execution_count": null,
   "metadata": {},
   "outputs": [],
   "source": [
    "spend_senses[0].examples"
   ]
  },
  {
   "cell_type": "code",
   "execution_count": null,
   "metadata": {},
   "outputs": [],
   "source": [
    "spend_senses[0].all_examples()"
   ]
  },
  {
   "cell_type": "code",
   "execution_count": 48,
   "metadata": {},
   "outputs": [
    {
     "data": {
      "text/plain": [
       "<CwnSense[06613601](電腦): 一種資料處理裝置，能自動接受並儲存、處理輸入的資料，然後經由一組預先存放在機器內的指令逐步引導下產生輸出結果。>"
      ]
     },
     "execution_count": 48,
     "metadata": {},
     "output_type": "execute_result"
    }
   ],
   "source": [
    "senses[0]"
   ]
  },
  {
   "cell_type": "markdown",
   "metadata": {},
   "source": [
    "## Annotation"
   ]
  },
  {
   "cell_type": "code",
   "execution_count": 12,
   "metadata": {},
   "outputs": [
    {
     "name": "stdout",
     "output_type": "stream",
     "text": [
      "Creating new session seantyh_test3\n"
     ]
    }
   ],
   "source": [
    "annot = CwnAnnotator(cwn, \"seantyh_test3\")"
   ]
  },
  {
   "cell_type": "code",
   "execution_count": 13,
   "metadata": {},
   "outputs": [
    {
     "data": {
      "text/plain": [
       "<CwnLemma: 平板_1>"
      ]
     },
     "execution_count": 13,
     "metadata": {},
     "output_type": "execute_result"
    }
   ],
   "source": [
    "my_lemma = annot.create_lemma(\"平板\")\n",
    "my_lemma"
   ]
  },
  {
   "cell_type": "code",
   "execution_count": 14,
   "metadata": {},
   "outputs": [],
   "source": [
    "my_lemma.zhuyin = \"ㄆㄧㄥˊ ㄅㄢˇ\"\n",
    "annot.set_lemma(my_lemma)"
   ]
  },
  {
   "cell_type": "code",
   "execution_count": 15,
   "metadata": {},
   "outputs": [],
   "source": [
    "#dir(annot.find_lemmas(\"平板\")[0])\n",
    "#annot.find_lemmas(\"平板\")[0].lemma\n",
    "#annot.find_lemmas(\"平板\")[0].zhuyin = \"ㄆㄧㄥˊ ㄅㄢˇ\"\n"
   ]
  },
  {
   "cell_type": "code",
   "execution_count": 16,
   "metadata": {},
   "outputs": [],
   "source": [
    "#annot.find_lemmas(\"平板\")[0].zhuyin"
   ]
  },
  {
   "cell_type": "code",
   "execution_count": 17,
   "metadata": {},
   "outputs": [],
   "source": [
    "my_sense = annot.create_sense(\"一種具有平面螢幕且易攜帶的的電腦裝置\")"
   ]
  },
  {
   "cell_type": "code",
   "execution_count": 18,
   "metadata": {},
   "outputs": [
    {
     "data": {
      "text/plain": [
       "<CwnSense[seantyh_test3_000002](----): 一種具有平面螢幕且易攜帶的的電腦裝置>"
      ]
     },
     "execution_count": 18,
     "metadata": {},
     "output_type": "execute_result"
    }
   ],
   "source": [
    "my_sense"
   ]
  },
  {
   "cell_type": "code",
   "execution_count": 19,
   "metadata": {},
   "outputs": [],
   "source": [
    "my_sense.pos = \"N\"\n",
    "my_sense.examples = [\"蘋果在發表會上推出了新的<平板>。\"]\n",
    "annot.set_sense(my_sense)"
   ]
  },
  {
   "cell_type": "code",
   "execution_count": 20,
   "metadata": {},
   "outputs": [
    {
     "data": {
      "text/plain": [
       "<CwnGraph.cwn_annotator.CwnAnnotator at 0x7f5608193780>"
      ]
     },
     "execution_count": 20,
     "metadata": {},
     "output_type": "execute_result"
    }
   ],
   "source": [
    "annot"
   ]
  },
  {
   "cell_type": "code",
   "execution_count": 21,
   "metadata": {},
   "outputs": [
    {
     "data": {
      "text/plain": [
       "{'seantyh_test3_000001': {'annot': {},\n",
       "  'lemma': '平板',\n",
       "  'lemma_sno': 1,\n",
       "  'node_type': 'lemma',\n",
       "  'zhuyin': 'ㄆㄧㄥˊ ㄅㄢˇ'},\n",
       " 'seantyh_test3_000002': {'annot': {},\n",
       "  'def': '一種具有平面螢幕且易攜帶的的電腦裝置',\n",
       "  'domain': '',\n",
       "  'examples': ['蘋果在發表會上推出了新的<平板>。'],\n",
       "  'node_type': 'sense',\n",
       "  'pos': 'N'}}"
      ]
     },
     "execution_count": 21,
     "metadata": {},
     "output_type": "execute_result"
    }
   ],
   "source": [
    "annot.V"
   ]
  },
  {
   "cell_type": "code",
   "execution_count": 22,
   "metadata": {},
   "outputs": [
    {
     "name": "stdout",
     "output_type": "stream",
     "text": [
      "<CwnRelation> hyponym: 06613601 -> seantyh_test3_000002 <CwnRelation> hypernym: seantyh_test3_000002 -> 06613601\n"
     ]
    }
   ],
   "source": [
    "# create_relation(src_id, tgt_id, rel_type)\n",
    "rel1 = annot.create_relation(senses[0].id, my_sense.id, CwnRelationType.hyponym)\n",
    "rel2 = annot.create_relation(my_sense.id, senses[0].id, CwnRelationType.hypernym)\n",
    "print(rel1, rel2)\n",
    "tablet_has_sense = annot.create_relation(my_lemma.id, my_sense.id, CwnRelationType.has_sense)"
   ]
  },
  {
   "cell_type": "code",
   "execution_count": 23,
   "metadata": {},
   "outputs": [
    {
     "data": {
      "text/plain": [
       "{('06613601', 'seantyh_test3_000002'): {'annot': {}, 'edge_type': 'hyponym'},\n",
       " ('seantyh_test3_000001', 'seantyh_test3_000002'): {'annot': {},\n",
       "  'edge_type': 'has_sense'},\n",
       " ('seantyh_test3_000002', '06613601'): {'annot': {}, 'edge_type': 'hypernym'}}"
      ]
     },
     "execution_count": 23,
     "metadata": {},
     "output_type": "execute_result"
    }
   ],
   "source": [
    "annot.E"
   ]
  },
  {
   "cell_type": "code",
   "execution_count": 24,
   "metadata": {},
   "outputs": [
    {
     "name": "stdout",
     "output_type": "stream",
     "text": [
      "<CwnSense[06613601](電腦): 一種資料處理裝置，能自動接受並儲存、處理輸入的資料，然後經由一組預先存放在機器內的指令逐步引導下產生輸出結果。>\n"
     ]
    }
   ],
   "source": [
    "computer0 = annot.find_lemmas(\"電腦\")[0]\n",
    "senses_computer = computer0.senses\n",
    "print(senses_computer[0])"
   ]
  },
  {
   "cell_type": "code",
   "execution_count": 25,
   "metadata": {},
   "outputs": [
    {
     "data": {
      "text/plain": [
       "[('hyponym', <CwnSense[seantyh_test3_000002](平板): 一種具有平面螢幕且易攜帶的的電腦裝置>),\n",
       " ('hypernym(rev)', <CwnSense[seantyh_test3_000002](平板): 一種具有平面螢幕且易攜帶的的電腦裝置>),\n",
       " ('has_facet', <CwnFacet[0661360101](電腦): 普通名詞。電腦的功能，通常包括程式、軟體等。>),\n",
       " ('has_facet', <CwnFacet[0661360102](電腦): 普通名詞。電腦的實體，特別指外表，通常包括螢幕、鍵盤、主機等。>),\n",
       " ('is_synset', <CwnSense[syn_004128](----): >),\n",
       " ('hypernym', <CwnSense[06582901](工具): 工作時必須使用的具有特定功能的器具。>),\n",
       " ('hyponym(rev)', <CwnSense[06582901](工具): 工作時必須使用的具有特定功能的器具。>)]"
      ]
     },
     "execution_count": 25,
     "metadata": {},
     "output_type": "execute_result"
    }
   ],
   "source": [
    "senses_computer[0].relations"
   ]
  },
  {
   "cell_type": "code",
   "execution_count": 26,
   "metadata": {},
   "outputs": [
    {
     "data": {
      "text/plain": [
       "{'annot': {},\n",
       " 'def': '一種資料處理裝置，能自動接受並儲存、處理輸入的資料，然後經由一組預先存放在機器內的指令逐步引導下產生輸出結果。',\n",
       " 'domain': '',\n",
       " 'examples': '',\n",
       " 'node_type': 'sense',\n",
       " 'pos': 'Na'}"
      ]
     },
     "execution_count": 26,
     "metadata": {},
     "output_type": "execute_result"
    }
   ],
   "source": [
    "senses[0].data()"
   ]
  },
  {
   "cell_type": "code",
   "execution_count": 27,
   "metadata": {},
   "outputs": [],
   "source": [
    "senses[0].examples = [\"大家學著使用<電腦>來處理資料。\"]"
   ]
  },
  {
   "cell_type": "code",
   "execution_count": 28,
   "metadata": {},
   "outputs": [
    {
     "data": {
      "text/plain": [
       "{'annot': {},\n",
       " 'def': '一種資料處理裝置，能自動接受並儲存、處理輸入的資料，然後經由一組預先存放在機器內的指令逐步引導下產生輸出結果。',\n",
       " 'domain': '',\n",
       " 'examples': ['大家學著使用<電腦>來處理資料。'],\n",
       " 'node_type': 'sense',\n",
       " 'pos': 'Na'}"
      ]
     },
     "execution_count": 28,
     "metadata": {},
     "output_type": "execute_result"
    }
   ],
   "source": [
    "senses[0].data()"
   ]
  },
  {
   "cell_type": "code",
   "execution_count": 29,
   "metadata": {},
   "outputs": [],
   "source": [
    "annot.set_sense(senses[0])"
   ]
  },
  {
   "cell_type": "code",
   "execution_count": 30,
   "metadata": {},
   "outputs": [],
   "source": [
    "annot.save()"
   ]
  },
  {
   "cell_type": "code",
   "execution_count": 43,
   "metadata": {},
   "outputs": [
    {
     "ename": "AttributeError",
     "evalue": "'CwnAnnotator' object has no attribute 'find_lemma'",
     "output_type": "error",
     "traceback": [
      "\u001b[0;31m---------------------------------------------------------------------------\u001b[0m",
      "\u001b[0;31mAttributeError\u001b[0m                            Traceback (most recent call last)",
      "\u001b[0;32m<ipython-input-43-f4001fb35f6a>\u001b[0m in \u001b[0;36m<module>\u001b[0;34m()\u001b[0m\n\u001b[0;32m----> 1\u001b[0;31m \u001b[0mannot\u001b[0m\u001b[0;34m.\u001b[0m\u001b[0mfind_lemma\u001b[0m\u001b[0;34m(\u001b[0m\u001b[0;34m\"電腦\"\u001b[0m\u001b[0;34m)\u001b[0m\u001b[0;34m\u001b[0m\u001b[0;34m\u001b[0m\u001b[0m\n\u001b[0m",
      "\u001b[0;31mAttributeError\u001b[0m: 'CwnAnnotator' object has no attribute 'find_lemma'"
     ]
    }
   ],
   "source": []
  },
  {
   "cell_type": "markdown",
   "metadata": {},
   "source": [
    "## Load last session"
   ]
  },
  {
   "cell_type": "code",
   "execution_count": 6,
   "metadata": {},
   "outputs": [
    {
     "name": "stdout",
     "output_type": "stream",
     "text": [
      "loading saved session from  annot/cwn_annot_seantyh_test.json\n",
      "<CwnSense[06613601](電腦): 一種資料處理裝置，能自動接受並儲存、處理輸入的資料，然後經由一組預先存放在機器內的指令逐步引導下產生輸出結果。>\n",
      "['大家學著使用<電腦>來處理資料。']\n",
      "[('hyponym', <CwnSense[seantyh_test_000002](平板): 一種具有平面螢幕且易攜帶的的電腦裝置>), ('hypernym(rev)', <CwnSense[seantyh_test_000002](平板): 一種具有平面螢幕且易攜帶的的電腦裝置>), ('has_facet', <CwnFacet[0661360101](電腦): 普通名詞。電腦的功能，通常包括程式、軟體等。>), ('has_facet', <CwnFacet[0661360102](電腦): 普通名詞。電腦的實體，特別指外表，通常包括螢幕、鍵盤、主機等。>), ('is_synset', <CwnSense[syn_004128](----): >), ('hypernym', <CwnSense[06582901](工具): 工作時必須使用的具有特定功能的器具。>), ('hyponym(rev)', <CwnSense[06582901](工具): 工作時必須使用的具有特定功能的器具。>)]\n"
     ]
    }
   ],
   "source": [
    "annot2 = CwnAnnotator(cwn, \"seantyh_test\")\n",
    "computer0 = annot2.find_lemmas(\"電腦\")[0]\n",
    "senses_computer = computer0.senses\n",
    "print(senses_computer[0])\n",
    "print(senses_computer[0].examples)\n",
    "print(senses_computer[0].relations)"
   ]
  },
  {
   "cell_type": "code",
   "execution_count": 10,
   "metadata": {},
   "outputs": [
    {
     "data": {
      "text/plain": [
       "[<CwnSense[03046001](洗腦): 不斷地對人進行觀念灌輸，改變其原有的思想和態度，以達到特定目的。>,\n",
       " <CwnSense[05110301](傷腦筋): 為特定事件費心思。>,\n",
       " <CwnSense[05165301](腦海): 比喻人記憶所在的地方。>,\n",
       " <CwnSense[06613601](電腦): 一種資料處理裝置，能自動接受並儲存、處理輸入的資料，然後經由一組預先存放在機器內的指令逐步引導下產生輸出結果。>,\n",
       " <CwnSense[06613602](電腦): 研究或操作電腦的知識。>,\n",
       " <CwnSense[06613603](電腦): 比喻計算或記憶能力很強的人。>,\n",
       " <CwnSense[07028601](腦): 動物體中位於頭部，主管記憶、知覺、思考、運動等的器官。>,\n",
       " <CwnSense[07028602](腦): 頭顱表面外型，但不包括臉部的部分。>,\n",
       " <CwnSense[07028603](腦): 作為食物的動物腦。>,\n",
       " <CwnSense[07028604](腦): 比喻人的思考、記憶能力。>,\n",
       " <CwnSense[07028605](腦): 比喻人對特定事物的想法。>,\n",
       " <CwnSense[07028606](腦): 描述人所思考的事。>,\n",
       " <CwnSense[14602901](豬腦): 指人能力不足。>,\n",
       " <CwnSense[14603201](腦殘): 形容人能力不足。>,\n",
       " <CwnSense[14603202](腦殘): 指人能力不足。>]"
      ]
     },
     "execution_count": 10,
     "metadata": {},
     "output_type": "execute_result"
    }
   ],
   "source": [
    "#annot2.find_lemmas(\"電腦\")[0].senses\n",
    "annot2.find_senses(lemma=\"腦\")"
   ]
  },
  {
   "cell_type": "code",
   "execution_count": 1,
   "metadata": {},
   "outputs": [
    {
     "ename": "NameError",
     "evalue": "name 'cwn' is not defined",
     "output_type": "error",
     "traceback": [
      "\u001b[0;31m---------------------------------------------------------------------------\u001b[0m",
      "\u001b[0;31mNameError\u001b[0m                                 Traceback (most recent call last)",
      "\u001b[0;32m<ipython-input-1-6a33f6a19e56>\u001b[0m in \u001b[0;36m<module>\u001b[0;34m()\u001b[0m\n\u001b[0;32m----> 1\u001b[0;31m \u001b[0mcwn\u001b[0m\u001b[0;34m.\u001b[0m\u001b[0mV\u001b[0m\u001b[0;34m\u001b[0m\u001b[0;34m\u001b[0m\u001b[0m\n\u001b[0m",
      "\u001b[0;31mNameError\u001b[0m: name 'cwn' is not defined"
     ]
    }
   ],
   "source": [
    "cwn.V"
   ]
  },
  {
   "cell_type": "code",
   "execution_count": null,
   "metadata": {},
   "outputs": [],
   "source": []
  }
 ],
 "metadata": {
  "kernelspec": {
   "display_name": "Python 3",
   "language": "python",
   "name": "python3"
  },
  "language_info": {
   "codemirror_mode": {
    "name": "ipython",
    "version": 3
   },
   "file_extension": ".py",
   "mimetype": "text/x-python",
   "name": "python",
   "nbconvert_exporter": "python",
   "pygments_lexer": "ipython3",
   "version": "3.7.1"
  }
 },
 "nbformat": 4,
 "nbformat_minor": 2
}
