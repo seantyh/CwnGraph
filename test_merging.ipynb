{
 "cells": [
  {
   "cell_type": "code",
   "execution_count": 2,
   "metadata": {},
   "outputs": [],
   "source": [
    "%load_ext autoreload\n",
    "%autoreload 2"
   ]
  },
  {
   "cell_type": "code",
   "execution_count": 5,
   "metadata": {},
   "outputs": [],
   "source": [
    "import pickle\n",
    "import pandas as pd\n",
    "from CwnGraph import CwnBase, CwnAnnotator, CwnSense\n",
    "from CwnGraph import CwnRelationType\n",
    "cwn = CwnBase()"
   ]
  },
  {
   "cell_type": "code",
   "execution_count": 26,
   "metadata": {},
   "outputs": [
    {
     "data": {
      "text/plain": [
       "2"
      ]
     },
     "execution_count": 26,
     "metadata": {},
     "output_type": "execute_result"
    }
   ],
   "source": [
    "len(set([1, 1, 2]))"
   ]
  },
  {
   "cell_type": "markdown",
   "metadata": {},
   "source": [
    "## Testing Annotation Conflict"
   ]
  },
  {
   "cell_type": "code",
   "execution_count": 6,
   "metadata": {},
   "outputs": [],
   "source": [
    "# Lexical relations\n",
    "#https://docs.google.com/spreadsheets/d/1vzDlokmrsXMdGBaoSFR9lC1F9BlN8qHR6b5YDMMvv7Y/export?format=csv&gid=1660345856\n",
    "# New sense\n",
    "#https://docs.google.com/spreadsheets/d/1vzDlokmrsXMdGBaoSFR9lC1F9BlN8qHR6b5YDMMvv7Y/export?format=csv&gid=1399166433\n",
    "# New lemma\n",
    "#https://docs.google.com/spreadsheets/d/1vzDlokmrsXMdGBaoSFR9lC1F9BlN8qHR6b5YDMMvv7Y/export?format=csv&gid=823487049\n",
    "#import requests\n",
    "\n",
    "#url = 'https://docs.google.com/spreadsheets/d/1vzDlokmrsXMdGBaoSFR9lC1F9BlN8qHR6b5YDMMvv7Y/export?format=csv&gid=1660345856'\n",
    "#rq = requests.get(url)\n",
    "data_url = 'http://bit.ly/2cLzoxH'\n",
    "# read data from url as pandas dataframe\n",
    "gapminder = pd.read_csv(data_url)"
   ]
  },
  {
   "cell_type": "code",
   "execution_count": 7,
   "metadata": {},
   "outputs": [
    {
     "data": {
      "text/plain": [
       "'Taiwan'"
      ]
     },
     "execution_count": 7,
     "metadata": {},
     "output_type": "execute_result"
    }
   ],
   "source": [
    "gapminder[(gapminder['year'] == 1957) & (gapminder['continent'] == \"Asia\") & (gapminder['country'] == \"Taiwan\")]['country'].values[0]\n",
    "#gapminder\n",
    "#str(gapminder[(gapminder['year'] == 1957) & (gapminder['continent'] == \"Asia\")])\n",
    "#gapminder.iloc[[1,23]]\n",
    "#gapminder.to_string().split('\\n')"
   ]
  },
  {
   "cell_type": "markdown",
   "metadata": {},
   "source": [
    "## Add data to cwn object (experimental)"
   ]
  },
  {
   "cell_type": "code",
   "execution_count": 3,
   "metadata": {},
   "outputs": [
    {
     "data": {
      "text/plain": [
       "{'E': {'06613601-seantyh_test_000002': {'annot': {}, 'edge_type': 'hyponym'},\n",
       "  'seantyh_test_000001-seantyh_test_000002': {'annot': {},\n",
       "   'edge_type': 'has_sense'},\n",
       "  'seantyh_test_000002-06613601': {'annot': {}, 'edge_type': 'hypernym'}},\n",
       " 'V': {'06613601': {'annot': {},\n",
       "   'def': '一種資料處理裝置，能自動接受並儲存、處理輸入的資料，然後經由一組預先存放在機器內的指令逐步引導下產生輸出結果。',\n",
       "   'domain': '',\n",
       "   'examples': ['大家學著使用<電腦>來處理資料。'],\n",
       "   'node_type': 'sense',\n",
       "   'pos': 'Na'},\n",
       "  'seantyh_test_000001': {'annot': {},\n",
       "   'lemma': '平板',\n",
       "   'lemma_sno': 1,\n",
       "   'node_type': 'lemma',\n",
       "   'zhuyin': 'ㄆㄧㄥˊ ㄅㄢˇ'},\n",
       "  'seantyh_test_000002': {'annot': {},\n",
       "   'def': '一種具有平面螢幕且易攜帶的的電腦裝置',\n",
       "   'domain': '',\n",
       "   'examples': ['蘋果在發表會上推出了新的<平板>。'],\n",
       "   'node_type': 'sense',\n",
       "   'pos': 'N'}},\n",
       " 'meta': {'base_hash': '6ebdc3',\n",
       "  'serial': 2,\n",
       "  'session_name': 'seantyh_test',\n",
       "  'snapshot': '191216143148',\n",
       "  'timestamp': ''}}"
      ]
     },
     "execution_count": 3,
     "metadata": {},
     "output_type": "execute_result"
    }
   ],
   "source": [
    "import json\n",
    "with open(\"annot/cwn_annot_seantyh_test.json\") as f:\n",
    "    annotated = json.load(f)\n",
    "annotated"
   ]
  },
  {
   "cell_type": "code",
   "execution_count": 4,
   "metadata": {},
   "outputs": [],
   "source": [
    "Vid = cwn.V.keys()\n",
    "Eid = cwn.E.keys()"
   ]
  },
  {
   "cell_type": "markdown",
   "metadata": {},
   "source": [
    "### Adding New Nodes (sense/lemma)"
   ]
  },
  {
   "cell_type": "code",
   "execution_count": 5,
   "metadata": {},
   "outputs": [
    {
     "data": {
      "text/plain": [
       "{'06613601': {'annot': {},\n",
       "  'def': '一種資料處理裝置，能自動接受並儲存、處理輸入的資料，然後經由一組預先存放在機器內的指令逐步引導下產生輸出結果。',\n",
       "  'domain': '',\n",
       "  'examples': ['大家學著使用<電腦>來處理資料。'],\n",
       "  'node_type': 'sense',\n",
       "  'pos': 'Na'},\n",
       " 'seantyh_test_000001': {'annot': {},\n",
       "  'lemma': '平板',\n",
       "  'lemma_sno': 1,\n",
       "  'node_type': 'lemma',\n",
       "  'zhuyin': 'ㄆㄧㄥˊ ㄅㄢˇ'},\n",
       " 'seantyh_test_000002': {'annot': {},\n",
       "  'def': '一種具有平面螢幕且易攜帶的的電腦裝置',\n",
       "  'domain': '',\n",
       "  'examples': ['蘋果在發表會上推出了新的<平板>。'],\n",
       "  'node_type': 'sense',\n",
       "  'pos': 'N'}}"
      ]
     },
     "execution_count": 5,
     "metadata": {},
     "output_type": "execute_result"
    }
   ],
   "source": [
    "annotated[\"V\"]"
   ]
  },
  {
   "cell_type": "code",
   "execution_count": 6,
   "metadata": {},
   "outputs": [
    {
     "data": {
      "text/plain": [
       "{'annot': {},\n",
       " 'def': '一種資料處理裝置，能自動接受並儲存、處理輸入的資料，然後經由一組預先存放在機器內的指令逐步引導下產生輸出結果。',\n",
       " 'domain': '',\n",
       " 'examples': '',\n",
       " 'node_type': 'sense',\n",
       " 'pos': 'Na'}"
      ]
     },
     "execution_count": 6,
     "metadata": {},
     "output_type": "execute_result"
    }
   ],
   "source": [
    "cwn.find_lemma(\"電腦\")[0].senses[0].data()"
   ]
  },
  {
   "cell_type": "code",
   "execution_count": 7,
   "metadata": {},
   "outputs": [],
   "source": [
    "cwn.V.update(annotated[\"V\"])"
   ]
  },
  {
   "cell_type": "code",
   "execution_count": 8,
   "metadata": {},
   "outputs": [
    {
     "data": {
      "text/plain": [
       "{'annot': {},\n",
       " 'def': '一種資料處理裝置，能自動接受並儲存、處理輸入的資料，然後經由一組預先存放在機器內的指令逐步引導下產生輸出結果。',\n",
       " 'domain': '',\n",
       " 'examples': ['大家學著使用<電腦>來處理資料。'],\n",
       " 'node_type': 'sense',\n",
       " 'pos': 'Na'}"
      ]
     },
     "execution_count": 8,
     "metadata": {},
     "output_type": "execute_result"
    }
   ],
   "source": [
    "cwn.find_lemma(\"電腦\")[0].senses[0].data()"
   ]
  },
  {
   "cell_type": "markdown",
   "metadata": {},
   "source": [
    "### Adding New Edges (Sense Relations)"
   ]
  },
  {
   "cell_type": "code",
   "execution_count": 9,
   "metadata": {},
   "outputs": [
    {
     "name": "stdout",
     "output_type": "stream",
     "text": [
      "<CwnSense[06613601](電腦): 一種資料處理裝置，能自動接受並儲存、處理輸入的資料，然後經由一組預先存放在機器內的指令逐步引導下產生輸出結果。>\n"
     ]
    },
    {
     "data": {
      "text/plain": [
       "[('has_facet', <CwnFacet[0661360101](電腦): 普通名詞。電腦的功能，通常包括程式、軟體等。>),\n",
       " ('has_facet', <CwnFacet[0661360102](電腦): 普通名詞。電腦的實體，特別指外表，通常包括螢幕、鍵盤、主機等。>),\n",
       " ('is_synset', <CwnSense[syn_004128](----): >),\n",
       " ('hypernym', <CwnSense[06582901](工具): 工作時必須使用的具有特定功能的器具。>),\n",
       " ('hyponym(rev)', <CwnSense[06582901](工具): 工作時必須使用的具有特定功能的器具。>)]"
      ]
     },
     "execution_count": 9,
     "metadata": {},
     "output_type": "execute_result"
    }
   ],
   "source": [
    "computer0 = cwn.find_lemma(\"電腦\")[0].senses\n",
    "print(computer0[0])\n",
    "computer0[0].relations"
   ]
  },
  {
   "cell_type": "code",
   "execution_count": 10,
   "metadata": {},
   "outputs": [],
   "source": [
    "## Parse annotated[\"E\"] into structure compatible with cwn.E\n",
    "new_dict = dict()\n",
    "for k in annotated[\"E\"]:\n",
    "    start, end = k.split(\"-\")\n",
    "    new_dict[(start, end)] = annotated[\"E\"][k]\n",
    "annotated[\"E\"] = new_dict\n",
    "\n",
    "# Update CWN data\n",
    "cwn.E.update(annotated[\"E\"])"
   ]
  },
  {
   "cell_type": "code",
   "execution_count": 11,
   "metadata": {},
   "outputs": [
    {
     "data": {
      "text/plain": [
       "[('has_facet', <CwnFacet[0661360101](電腦): 普通名詞。電腦的功能，通常包括程式、軟體等。>),\n",
       " ('has_facet', <CwnFacet[0661360102](電腦): 普通名詞。電腦的實體，特別指外表，通常包括螢幕、鍵盤、主機等。>),\n",
       " ('is_synset', <CwnSense[syn_004128](----): >),\n",
       " ('hypernym', <CwnSense[06582901](工具): 工作時必須使用的具有特定功能的器具。>),\n",
       " ('hyponym(rev)', <CwnSense[06582901](工具): 工作時必須使用的具有特定功能的器具。>)]"
      ]
     },
     "execution_count": 11,
     "metadata": {},
     "output_type": "execute_result"
    }
   ],
   "source": [
    "computer0 = cwn.find_lemma(\"電腦\")[0].senses\n",
    "computer0[0].relations"
   ]
  },
  {
   "cell_type": "markdown",
   "metadata": {},
   "source": [
    "## How are edges searched?"
   ]
  },
  {
   "cell_type": "code",
   "execution_count": 12,
   "metadata": {},
   "outputs": [
    {
     "data": {
      "text/plain": [
       "[<CwnRelation> has_facet: 06613601 -> 0661360101,\n",
       " <CwnRelation> has_facet: 06613601 -> 0661360102,\n",
       " <CwnRelation> is_synset: 06613601 -> syn_004128,\n",
       " <CwnRelation> hypernym: 06613601 -> 06582901,\n",
       " <CwnRelation> has_sense(rev): 06613601 <- 066136,\n",
       " <CwnRelation> hyponym(rev): 06613601 <- 06582901]"
      ]
     },
     "execution_count": 12,
     "metadata": {},
     "output_type": "execute_result"
    }
   ],
   "source": [
    "# Doesn't understand source code\n",
    "# cwn_types.py line200\n",
    "computer0[0].cgu.find_edges('06613601', is_directed=False)"
   ]
  },
  {
   "cell_type": "code",
   "execution_count": 13,
   "metadata": {},
   "outputs": [
    {
     "data": {
      "text/plain": [
       "<CwnGraph.cwn_base.CwnBase at 0x7f525863bda0>"
      ]
     },
     "execution_count": 13,
     "metadata": {},
     "output_type": "execute_result"
    }
   ],
   "source": [
    "computer0[0].cgu"
   ]
  }
 ],
 "metadata": {
  "kernelspec": {
   "display_name": "Python 3",
   "language": "python",
   "name": "python3"
  },
  "language_info": {
   "codemirror_mode": {
    "name": "ipython",
    "version": 3
   },
   "file_extension": ".py",
   "mimetype": "text/x-python",
   "name": "python",
   "nbconvert_exporter": "python",
   "pygments_lexer": "ipython3",
   "version": "3.7.1"
  }
 },
 "nbformat": 4,
 "nbformat_minor": 2
}
