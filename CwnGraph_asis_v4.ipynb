{
 "cells": [
  {
   "cell_type": "markdown",
   "metadata": {},
   "source": [
    "# CWN 查找小幫手"
   ]
  },
  {
   "cell_type": "code",
   "execution_count": 1,
   "metadata": {},
   "outputs": [],
   "source": [
    "%load_ext autoreload\n",
    "%autoreload 2\n",
    "\n",
    "import pickle\n",
    "import re\n",
    "from CwnGraph import CwnBase, CwnAnnotator\n",
    "from CwnGraph import CwnRelationType\n",
    "from interactive_searcher import searchByLemma, compareLemma, exploreSense, sense_id\n",
    "\n",
    "cwn = CwnBase()"
   ]
  },
  {
   "cell_type": "markdown",
   "metadata": {},
   "source": [
    "## 1. 使用 RegEx 搜尋 CWN sense 定義與例句"
   ]
  },
  {
   "cell_type": "code",
   "execution_count": 2,
   "metadata": {},
   "outputs": [
    {
     "name": "stdout",
     "output_type": "stream",
     "text": [
      "  1) 弟兄　　 id: 03009602   pos: Na       def: 彼此交情深厚的男性【朋友】。\n",
      "\n",
      "  2) 故　　　 id: 03015803   pos: Na       def: 【朋友】或舊識。\n",
      "\n",
      "  3) 好兄弟　 id: 03017501   pos: Na       def: 好【朋友】間的暱稱，彼此交情深厚的男性【朋友】。\n",
      "\n",
      "  4) 姐妹　　 id: 03023602   pos: Na       def: 彼此交情親密的女性【朋友】。\n",
      "\n",
      "  5) 兄弟　　 id: 03047402   pos: Na       def: 彼此交情深厚的男性【朋友】。\n",
      "\n",
      "  6) 約會　　 id: 04060002   pos: VB,nom   def: 男女【朋友】之間約定見面。\n",
      "\n",
      "  7) 會　　　 id: 04143402   pos: VC       def: 結交【朋友】。\n",
      "\n",
      "  8) 友好　　 id: 05087101   pos: VH       def: 形容像【朋友】一樣關係和睦的。\n",
      "\n",
      "  9) 侄　　　 id: 09040803   pos: Na       def: 對【朋友】的子女的指稱。\n",
      "\n",
      " 10) 姪　　　 id: 09046003   pos: Na       def: 對【朋友】的子女的指稱。\n",
      "\n"
     ]
    }
   ],
   "source": [
    "exploreSense( \"朋友\", cwn)"
   ]
  },
  {
   "cell_type": "code",
   "execution_count": 3,
   "metadata": {},
   "outputs": [
    {
     "name": "stdout",
     "output_type": "stream",
     "text": [
      "  1) 孤兒　　 id: 04064503   pos: Na       def: 比喻缺乏應得的支持與援助的人或物。\n",
      "\t1) 原來在台灣人民心態一直在「外交<孤兒>」的缺乏自信，以及「經濟暴發戶」的狂妄自大中來回擺盪。\n",
      "\t2) 這種國際法所規範的國際關係採取承認原則，我們如果拘泥於此原則的精神，中華民國在國際上就【沒有朋友】，成為國際<孤兒>。\n",
      "\t3) 這些馬桶是整批進口，房子售完就停止進口，或者原廠商就不生產，一旦零件壞掉找不到維修的配件，很可能造成一堆馬桶<孤兒>，所以買主購房要特別注意。\n",
      "\n",
      "  2) 睡　　　 id: 05237604   pos: VCL      def: 在後述地點過夜。\n",
      "\t1) 沒錢還是乖乖去<睡>馬路，別充闊！\n",
      "\t2) 我從來沒想過我張某人這輩子居然會淪落到<睡>火車站。\n",
      "\t3) 若【沒有朋友】家可以過夜，我就只好像遊民一樣<睡>公園。\n",
      "\n"
     ]
    }
   ],
   "source": [
    "exploreSense(\"沒有?朋友\", cwn, type=\"examples\", printExamples=True)"
   ]
  },
  {
   "cell_type": "markdown",
   "metadata": {},
   "source": [
    "## 2. 列出某個 lemma 的所有 senses 與例句"
   ]
  },
  {
   "cell_type": "code",
   "execution_count": 4,
   "metadata": {},
   "outputs": [
    {
     "name": "stdout",
     "output_type": "stream",
     "text": [
      "\n",
      "1. 了\n",
      "\t  1) 04005201   pos: Di       def: 時態標記。表事件的結束或完整性，置於動詞後。\n",
      "\t\t1) 民族心底的長城情結一直不敢恭維，讀<了>康熙這段話，簡直是找到了一個遠年知音。\n",
      "\t\t2) 二十世紀末的臺灣藝術，象徵<了>藝術家心中的熱情與詩性，表達了他對土地的熱愛，他呈現了臺灣大地之美。\n",
      "\t\t3) 各型車床、銑床、原料、工具略顯緊迫的排列在尚待進一步整理的狹長空間裡，何先生就在這裡，渡過<了>八年與機具日日為伍的時光。\n",
      "\n",
      "\t  2) 04005202   pos: T        def: 表示變化或出現新的情況，置於句末或句中停頓處。\n",
      "\t\t1) 搶奪去了能夠弄好倒也罷了，偏偏越弄越糟，最後幾乎讓外國人給瓜分<了>。\n",
      "\t\t2) 這一決定如果不是有意諷刺，那也足以說明，這次請願活動是真正的慘敗<了>。\n",
      "\t\t3) 好幾次她走得太過出神<了>，在狹窄卻又車來人往的巷街上，和急駛的汽車擦身而過。\n",
      "\t\t4) 選擇的時刻來臨<了>，起初貪心而天真的我以為這可以是道複選題，我甚至安排她們見面。\n",
      "\n",
      "\n",
      "2. 了\n",
      "\t  1) 05003601   pos: VJ       def: 結束。\n",
      "\t\t1) 根據「抗拒改造、加重懲治」的原則將其改判成死刑，打算將他一斃<了>之，免得他多事。\n",
      "\t\t2) 沒想到輻射公寓的問題還未<了>，最近又發生聯成鐵工廠遺失有害人體的放射核種銫一三七，幸好有人檢舉。\n",
      "\t\t3) 曾柔鶯表示這並不代表國人只要拿著大把鈔票前去，就萬事<了>，整體的規劃及人文法律的認知，對事業的成敗非常重要。\n",
      "\n",
      "\t  2) 05003602   pos: Di       def: 時態標記。表前述對象對該事件或動作有實現的能力。\n",
      "\t\t1) 聚集臺北的大陸人，不論如何張致做作，踵事增華，掩飾不<了>他們的空虛。\n",
      "\t\t2) 那幫窮酸博士是幹不了你這份活兒，可是人家讀了博士能幹的事，你也幹不<了>。甭博士長博士短的，有什麼了不起的！\n",
      "\t\t3) 這一來很多人因此被指為「反革命」，進了牢房。高級幹部如河北省委副書記薛迅就被指為「過不<了>社會主義關」而被撤了職。\n",
      "\n",
      "\n",
      "3. 了\n",
      "\t  1) 05003701   pos: VJ       def: 清楚地知道。\n",
      "\t\t1) 我<了>他為什麼要這樣做的原因，其實，他也是有很多說不出的苦衷。\n",
      "\t\t2) 生活一切明瞭，也就是善覺。明是明白，<了>是瞭解。待人接物，對任何人都能了解、能明白。\n",
      "\n"
     ]
    }
   ],
   "source": [
    "searchByLemma(\"了\", cwn)"
   ]
  },
  {
   "cell_type": "markdown",
   "metadata": {},
   "source": [
    "## 3. 比較兩個 lemma 的所有 senses"
   ]
  },
  {
   "cell_type": "code",
   "execution_count": 5,
   "metadata": {},
   "outputs": [
    {
     "name": "stdout",
     "output_type": "stream",
     "text": [
      "  1 [09136301]搥: 以棒狀物或拳頭敲擊特定物體。　　　　　　　　　　　　　　　　　　[09103201]捶: 以棒狀物或拳頭敲擊特定物體。\n",
      "  2 [09136302]搥: 敲打用的短棒，通常一端較大且堅硬。　　　　　　　　　　　　　　　[09103202]捶: 敲打用的短棒，通常一端較大且堅硬。\n",
      "  3 [09136301]搥: 以棒狀物或拳頭敲擊特定物體。\n",
      "  4 [09136302]搥: 敲打用的短棒，通常一端較大且堅硬。\n",
      "  5 [09136303]搥: 以槌子為形象製成的人造物。\n"
     ]
    }
   ],
   "source": [
    "compareLemma(\"搥\", \"捶\", cwn)"
   ]
  },
  {
   "cell_type": "markdown",
   "metadata": {},
   "source": [
    "## 4. 檢視一個 sense 的所有資訊"
   ]
  },
  {
   "cell_type": "code",
   "execution_count": 8,
   "metadata": {},
   "outputs": [
    {
     "name": "stdout",
     "output_type": "stream",
     "text": [
      "{'gloss': '研究或操作電腦的知識。',\n",
      " 'id': 'syn_016365',\n",
      " 'node_type': 'synset',\n",
      " 'pwn_id': None,\n",
      " 'pwn_word': None}\n"
     ]
    }
   ],
   "source": [
    "sense_id(\"09103201\", cwn)"
   ]
  },
  {
   "cell_type": "markdown",
   "metadata": {},
   "source": [
    "## Question: search sense directly by id?  \n",
    "Goal: to access sense relations of a sense by its id"
   ]
  }
 ],
 "metadata": {
  "kernelspec": {
   "display_name": "Python 3",
   "language": "python",
   "name": "python3"
  },
  "language_info": {
   "codemirror_mode": {
    "name": "ipython",
    "version": 3
   },
   "file_extension": ".py",
   "mimetype": "text/x-python",
   "name": "python",
   "nbconvert_exporter": "python",
   "pygments_lexer": "ipython3",
   "version": "3.7.1"
  }
 },
 "nbformat": 4,
 "nbformat_minor": 2
}
