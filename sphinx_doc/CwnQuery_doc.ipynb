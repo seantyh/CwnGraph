{
 "cells": [
  {
   "cell_type": "markdown",
   "metadata": {},
   "source": [
    "This is a quick guide to using `CwnGraph` API to query and navigate [Chinese Wordnet](http://lope.linguistics.ntu.edu.tw/cwn2/)."
   ]
  },
  {
   "cell_type": "markdown",
   "metadata": {},
   "source": [
    "## 1. Installation\n",
    "\n",
    "When using `CwnGraph` for the **first time**,\n",
    "you would need to download and install the data for cwn (`cwn_graph.pyobj`) with `CwnBase.install_cwn()`:"
   ]
  },
  {
   "cell_type": "code",
   "execution_count": 40,
   "metadata": {},
   "outputs": [
    {
     "name": "stdout",
     "output_type": "stream",
     "text": [
      "CWN data installed\n"
     ]
    }
   ],
   "source": [
    "from pprint import pprint\n",
    "from CwnGraph import CwnBase\n",
    "CwnBase.install_cwn(\"data/cwn_graph.pyobj\")"
   ]
  },
  {
   "cell_type": "markdown",
   "metadata": {},
   "source": [
    "## 2. Load CWN data\n",
    "\n",
    "To query CWN, the first step is to initialize the cwn data as an object with `CwnBase()`:"
   ]
  },
  {
   "cell_type": "code",
   "execution_count": 41,
   "metadata": {},
   "outputs": [],
   "source": [
    "from CwnGraph import CwnBase\n",
    "cwn = CwnBase()"
   ]
  },
  {
   "cell_type": "markdown",
   "metadata": {},
   "source": [
    "Now, you can start querying CWN with the methods provided by `CwnBase`!"
   ]
  },
  {
   "cell_type": "markdown",
   "metadata": {},
   "source": [
    "## 3. Basic Query"
   ]
  },
  {
   "cell_type": "markdown",
   "metadata": {},
   "source": [
    "### 3.1 Query senses from lemmas\n",
    "\n",
    "To locate a particular sense in CWN, one approach is to first find the lemma associated with that sense.\n",
    "You can use `CwnBase.find_lemma()` to search for lemmas containing the given RegEx pattern passed as the argument. The example below searches for lemmas containing the string `\"電腦\"`:"
   ]
  },
  {
   "cell_type": "code",
   "execution_count": 42,
   "metadata": {},
   "outputs": [
    {
     "data": {
      "text/plain": [
       "[<CwnLemma: 電腦_1>, <CwnLemma: 電腦化_1>, <CwnLemma: 微電腦_1>]"
      ]
     },
     "execution_count": 42,
     "metadata": {},
     "output_type": "execute_result"
    }
   ],
   "source": [
    "lemmas = cwn.find_lemma(\"電腦\")\n",
    "lemmas"
   ]
  },
  {
   "cell_type": "markdown",
   "metadata": {},
   "source": [
    "This returns a list of matching lemmas (`CwnLemma`).\n",
    "\n",
    "Each lemma may itself contain other informations, for example, a lemma (e.g. `電腦_1`) may has several senses:"
   ]
  },
  {
   "cell_type": "code",
   "execution_count": 43,
   "metadata": {},
   "outputs": [
    {
     "data": {
      "text/plain": [
       "[<CwnSense[06613601](電腦): 一種資料處理裝置，能自動接受並儲存、處理輸入的資料，然後經由一組預先存放在機器內的指令逐步引導下產生輸出結果。>,\n",
       " <CwnSense[06613602](電腦): 研究或操作電腦的知識。>,\n",
       " <CwnSense[06613603](電腦): 比喻計算或記憶能力很強的人。>]"
      ]
     },
     "execution_count": 43,
     "metadata": {},
     "output_type": "execute_result"
    }
   ],
   "source": [
    "senses = lemmas[0].senses\n",
    "senses"
   ]
  },
  {
   "cell_type": "markdown",
   "metadata": {},
   "source": [
    "### 3.2 Sense\n",
    "\n",
    "A sense could have several relations with other types of data, e.g. facets of the sense, other senses, etc.\n",
    "\n",
    "#### 3.2.1 Relations\n",
    "\n",
    "With the `relations` attribute of a sense, one can find its **sense relations** to other entities, represented as a list of tuple, with each tuple representing a relation (an edge with the first element as the *edgetype*, the second as *the other node*, and the third as the *direction*)."
   ]
  },
  {
   "cell_type": "code",
   "execution_count": 44,
   "metadata": {},
   "outputs": [
    {
     "data": {
      "text/plain": [
       "[('has_facet', <CwnFacet[0661360101](電腦): 普通名詞。電腦的功能，通常包括程式、軟體等。>, 'forward'),\n",
       " ('has_facet',\n",
       "  <CwnFacet[0661360102](電腦): 普通名詞。電腦的實體，特別指外表，通常包括螢幕、鍵盤、主機等。>,\n",
       "  'forward'),\n",
       " ('is_synset',\n",
       "  <CwnSynset[syn_004128]: 一種資料處理裝置，能自動接受並儲存、處理輸入的資料，然後經由一組預先存放在機器內的指令逐步引導下產生輸出結果。>,\n",
       "  'forward'),\n",
       " ('hypernym', <CwnSense[06582901](工具): 工作時必須使用的具有特定功能的器具。>, 'forward'),\n",
       " ('hyponym', <CwnSense[06582901](工具): 工作時必須使用的具有特定功能的器具。>, 'reversed')]"
      ]
     },
     "execution_count": 44,
     "metadata": {},
     "output_type": "execute_result"
    }
   ],
   "source": [
    "computer = senses[0]\n",
    "computer.relations"
   ]
  },
  {
   "cell_type": "markdown",
   "metadata": {},
   "source": [
    "#### 3.2.2 Facets\n",
    "\n",
    "Sometimes, a sense may have multiple facets with slightly different meanings:"
   ]
  },
  {
   "cell_type": "code",
   "execution_count": 45,
   "metadata": {},
   "outputs": [
    {
     "data": {
      "text/plain": [
       "[<CwnFacet[0661360101](電腦): 普通名詞。電腦的功能，通常包括程式、軟體等。>,\n",
       " <CwnFacet[0661360102](電腦): 普通名詞。電腦的實體，特別指外表，通常包括螢幕、鍵盤、主機等。>]"
      ]
     },
     "execution_count": 45,
     "metadata": {},
     "output_type": "execute_result"
    }
   ],
   "source": [
    "computer.facets"
   ]
  },
  {
   "cell_type": "markdown",
   "metadata": {},
   "source": [
    "while other senses may not have facets:"
   ]
  },
  {
   "cell_type": "code",
   "execution_count": 46,
   "metadata": {},
   "outputs": [
    {
     "data": {
      "text/plain": [
       "<CwnSense[06613602](電腦): 研究或操作電腦的知識。>"
      ]
     },
     "execution_count": 46,
     "metadata": {},
     "output_type": "execute_result"
    }
   ],
   "source": [
    "senses[1]"
   ]
  },
  {
   "cell_type": "code",
   "execution_count": 47,
   "metadata": {},
   "outputs": [
    {
     "data": {
      "text/plain": [
       "[]"
      ]
     },
     "execution_count": 47,
     "metadata": {},
     "output_type": "execute_result"
    }
   ],
   "source": [
    "# This sense has no facets\n",
    "senses[1].facets"
   ]
  },
  {
   "cell_type": "markdown",
   "metadata": {},
   "source": [
    "#### 3.2.3 Example sentences\n",
    "The example sentences of **a sense** can be retrieved with the `examples` attribute:"
   ]
  },
  {
   "cell_type": "code",
   "execution_count": 48,
   "metadata": {},
   "outputs": [
    {
     "data": {
      "text/plain": [
       "<CwnSense[06613602](電腦): 研究或操作電腦的知識。>"
      ]
     },
     "execution_count": 48,
     "metadata": {},
     "output_type": "execute_result"
    }
   ],
   "source": [
    "senses[1]"
   ]
  },
  {
   "cell_type": "code",
   "execution_count": 49,
   "metadata": {},
   "outputs": [
    {
     "data": {
      "text/plain": [
       "['小朋友都覺得放假好煩，比上學更累，他們要學<電腦>，上補習班。',\n",
       " '這樣規定豈不是加重學生的負擔？還不如學<電腦>或英文更有實效。',\n",
       " '陶公我在高一時就認為他<電腦>超強的，但是現在我認為muscle你也不差。']"
      ]
     },
     "execution_count": 49,
     "metadata": {},
     "output_type": "execute_result"
    }
   ],
   "source": [
    "senses[1].examples"
   ]
  },
  {
   "cell_type": "markdown",
   "metadata": {},
   "source": [
    " When a sense has facets, one need to **first retrieve a particular facet** to get the examples of this sense facet:"
   ]
  },
  {
   "cell_type": "code",
   "execution_count": 50,
   "metadata": {},
   "outputs": [
    {
     "data": {
      "text/plain": [
       "<CwnFacet[0661360101](電腦): 普通名詞。電腦的功能，通常包括程式、軟體等。>"
      ]
     },
     "execution_count": 50,
     "metadata": {},
     "output_type": "execute_result"
    }
   ],
   "source": [
    "computer.facets[0]"
   ]
  },
  {
   "cell_type": "code",
   "execution_count": 51,
   "metadata": {},
   "outputs": [
    {
     "data": {
      "text/plain": [
       "['走遍大街小巷，如何選一台適合自己的個人<電腦>是一大問題。',\n",
       " '健保局總局與六個分局的<電腦>軟硬體與通信費用應限定在十億以內。',\n",
       " '一種以藝術大師命名的<電腦>病毒，每年固定在大師誕辰三月六日發作，摧毀被感染<電腦>的所有硬碟檔案。']"
      ]
     },
     "execution_count": 51,
     "metadata": {},
     "output_type": "execute_result"
    }
   ],
   "source": [
    "computer.facets[0].examples"
   ]
  },
  {
   "cell_type": "markdown",
   "metadata": {},
   "source": [
    "However, it may be tedious to check whether a sense has facets before retrieving the examples.\n",
    "One could use `CwnSense.all_examples()` to retrieve **all examples of a sense** whether or not this sense has facets:"
   ]
  },
  {
   "cell_type": "code",
   "execution_count": 52,
   "metadata": {},
   "outputs": [
    {
     "data": {
      "text/plain": [
       "''"
      ]
     },
     "execution_count": 52,
     "metadata": {},
     "output_type": "execute_result"
    }
   ],
   "source": [
    "# Can't retrieve examples for this sense \n",
    "# because they are stored under facets\n",
    "computer.examples"
   ]
  },
  {
   "cell_type": "code",
   "execution_count": 53,
   "metadata": {},
   "outputs": [
    {
     "data": {
      "text/plain": [
       "['走遍大街小巷，如何選一台適合自己的個人<電腦>是一大問題。',\n",
       " '健保局總局與六個分局的<電腦>軟硬體與通信費用應限定在十億以內。',\n",
       " '一種以藝術大師命名的<電腦>病毒，每年固定在大師誕辰三月六日發作，摧毀被感染<電腦>的所有硬碟檔案。',\n",
       " '大家會在這兩天把<電腦>搬進宿舍嗎？',\n",
       " '你買這麼漂亮的新<電腦>，發財了喔？',\n",
       " '因為<電腦>可以吸磁鐵，所以我就貼了很多磁鐵，但是有人說貼磁鐵的話會影響到主機，這是真的嗎？']"
      ]
     },
     "execution_count": 53,
     "metadata": {},
     "output_type": "execute_result"
    }
   ],
   "source": [
    "# This find all examples of a sense \n",
    "# regardless of where the examples are stored\n",
    "computer.all_examples()"
   ]
  },
  {
   "cell_type": "markdown",
   "metadata": {},
   "source": [
    "#### 3.2.4 Other data of a sense\n",
    "Other data of a sense could be retrieved with the `data()` method:"
   ]
  },
  {
   "cell_type": "code",
   "execution_count": 54,
   "metadata": {},
   "outputs": [
    {
     "data": {
      "text/plain": [
       "{'annot': {},\n",
       " 'def': '研究或操作電腦的知識。',\n",
       " 'domain': '',\n",
       " 'examples': ['小朋友都覺得放假好煩，比上學更累，他們要學<電腦>，上補習班。',\n",
       "  '這樣規定豈不是加重學生的負擔？還不如學<電腦>或英文更有實效。',\n",
       "  '陶公我在高一時就認為他<電腦>超強的，但是現在我認為muscle你也不差。'],\n",
       " 'node_type': 'sense',\n",
       " 'pos': 'Na'}"
      ]
     },
     "execution_count": 54,
     "metadata": {},
     "output_type": "execute_result"
    }
   ],
   "source": [
    "senses[1].data()"
   ]
  },
  {
   "cell_type": "markdown",
   "metadata": {},
   "source": [
    "### 3.3 Other approaches to query senses\n",
    "\n",
    "`CwnBase` provides ways to search for senses **directly** with `CwnBase.find_senses()`. This method searches for senses with lemmas, sense definitions, or example sentences that match the given RegEx patterns. The matched senses are returned as a list of senses."
   ]
  },
  {
   "cell_type": "code",
   "execution_count": 55,
   "metadata": {},
   "outputs": [
    {
     "data": {
      "text/plain": [
       "[<CwnSense[06665201](車): 在陸地上以輪子行駛的運輸工具。>,\n",
       " <CwnSense[06665202](車): 以車子為形象製成的人造物。>,\n",
       " <CwnSense[06665203](車): 開放式用於乘載或放置物品的有輪子的工具。>,\n",
       " <CwnSense[06665204](車): 相互連結用在軌道上行駛的運輸工具中的一節。>,\n",
       " <CwnSense[06665205](車): 計算一車承載物的量的單位。>,\n",
       " <CwnSense[06665206](車): 利用機械切削特定物品。>,\n",
       " <CwnSense[06665207](車): 大型的紡織機械。>,\n",
       " <CwnSense[06665208](車): 利用機器來縫製衣物。>,\n",
       " <CwnSense[07021501](車): 姓。>,\n",
       " <CwnSense[07021601](車): 象棋遊戲中所使用的棋子之一，走直線。>]"
      ]
     },
     "execution_count": 55,
     "metadata": {},
     "output_type": "execute_result"
    }
   ],
   "source": [
    "cwn.find_senses(lemma=\"^車$\")"
   ]
  },
  {
   "cell_type": "code",
   "execution_count": 56,
   "metadata": {},
   "outputs": [
    {
     "data": {
      "text/plain": [
       "[<CwnSense[03027001](輛): 計算有輪子的機械裝置的單位。>,\n",
       " <CwnSense[04082906](台): 計算有輪子的機械裝置的單位。>,\n",
       " <CwnSense[04153906](臺): 計算有輪子的機械裝置的單位。>,\n",
       " <CwnSense[05075709](部): 計算有輪子的機械裝置的單位。>,\n",
       " <CwnSense[05131903](輪): 計算輪子的單位。>,\n",
       " <CwnSense[05131904](輪): 形狀像輪子的物體。>,\n",
       " <CwnSense[06521401](車子): 在陸地上以輪子行駛的運輸工具。>,\n",
       " <CwnSense[06552201](汽車): 在陸地上行駛的有四個以上的輪子的運輸工具。>,\n",
       " <CwnSense[06665201](車): 在陸地上以輪子行駛的運輸工具。>,\n",
       " <CwnSense[06665203](車): 開放式用於乘載或放置物品的有輪子的工具。>,\n",
       " <CwnSense[08008101](胎): 輪子外面包覆的環形橡膠製品。為英語tire的音譯。>,\n",
       " <CwnSense[09004101](汽): 在陸地上行駛的有四個以上的輪子的運輸工具。>]"
      ]
     },
     "execution_count": 56,
     "metadata": {},
     "output_type": "execute_result"
    }
   ],
   "source": [
    "cwn.find_senses(definition=\"輪子\")"
   ]
  },
  {
   "cell_type": "code",
   "execution_count": 57,
   "metadata": {},
   "outputs": [
    {
     "data": {
      "text/plain": [
       "[<CwnSense[05041401](連): 兩物體在空間上相連。>,\n",
       " <CwnSense[06665203](車): 開放式用於乘載或放置物品的有輪子的工具。>]"
      ]
     },
     "execution_count": 57,
     "metadata": {},
     "output_type": "execute_result"
    }
   ],
   "source": [
    "cwn.find_senses(examples=\"學步車\")"
   ]
  }
 ],
 "metadata": {
  "kernelspec": {
   "display_name": "Python 3",
   "language": "python",
   "name": "python3"
  },
  "language_info": {
   "codemirror_mode": {
    "name": "ipython",
    "version": 3
   },
   "file_extension": ".py",
   "mimetype": "text/x-python",
   "name": "python",
   "nbconvert_exporter": "python",
   "pygments_lexer": "ipython3",
   "version": "3.7.1"
  }
 },
 "nbformat": 4,
 "nbformat_minor": 2
}
